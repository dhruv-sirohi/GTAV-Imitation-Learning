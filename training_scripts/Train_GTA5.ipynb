{
  "nbformat": 4,
  "nbformat_minor": 0,
  "metadata": {
    "colab": {
      "name": "Train_GTA5.ipynb",
      "provenance": [],
      "collapsed_sections": []
    },
    "kernelspec": {
      "name": "python3",
      "display_name": "Python 3"
    },
    "language_info": {
      "name": "python"
    }
  },
  "cells": [
    {
      "cell_type": "code",
      "metadata": {
        "id": "qNkuehuqjPe9"
      },
      "source": [
        "#imports + file upload\n",
        "from google.colab import files\n",
        "import numpy as np\n",
        "from skimage.color import rgb2gray\n",
        "import os\n",
        "import pandas as pd\n",
        "from collections import Counter\n",
        "from random import shuffle\n",
        "\n",
        "\n",
        "#uploaded = files.upload()"
      ],
      "execution_count": 7,
      "outputs": []
    },
    {
      "cell_type": "code",
      "metadata": {
        "id": "5lu6X4MSkTQL",
        "colab": {
          "base_uri": "https://localhost:8080/"
        },
        "outputId": "5d3c2658-0d0f-463c-8b77-1bd6e449a3a2"
      },
      "source": [
        "#data processing\n",
        "\n",
        "#next steps: use GAN to debias dataset (MIT 6.S191 lec 4, lab 2)\n",
        "s_turn = []\n",
        "m_turn = []\n",
        "adj_turn = []\n",
        "no_turn = []\n",
        "starting_value = 0\n",
        "continue_loop = True\n",
        "while continue_loop:\n",
        "  data_file_name = 'processed-training_data-{}.npy'.format(starting_value)\n",
        "  if os.path.isfile(data_file_name):\n",
        "    processed_data = np.load(data_file_name,allow_pickle=True)    \n",
        "    y = processed_data[0]\n",
        "    y_ls = y[2]\n",
        "    x = rgb2gray(processed_data[1])\n",
        "\n",
        "    if (y_ls > 0.875 or y_ls < 0.125):\n",
        "      #very sharp turn, but it doesn't warrant its own array\n",
        "      s_turn.append([x,y])\n",
        "    elif (y_ls > 0.8 or y_ls < 0.2):\n",
        "      #sharp turn\n",
        "      s_turn.append([x,y])\n",
        "    elif (y_ls > 0.7 or y_ls < 0.3):\n",
        "      #medium turn\n",
        "      m_turn.append([x,y])\n",
        "    elif (y_ls > 0.65 or y_ls < 0.35):\n",
        "      #light turn, doesn't warrant its own array\n",
        "      m_turn.append([x,y])\n",
        "    elif (y_ls > 0.575 or y_ls < 0.425):\n",
        "      #adjustments\n",
        "      adj_turn.append([x,y])\n",
        "    else:\n",
        "      #no turn\n",
        "      no_turn.append([x,y])\n",
        "  else:\n",
        "    continue_loop = False\n",
        "\n",
        "balanced_data = s_turn + m_turn + adj_turn + no_turn[0:len(m_turn)+len(s_turn)]\n",
        "\n",
        "shuffle(balanced_data)\n",
        "\n",
        "print(\"done! have {} test cases\".format(len(balanced_data)))\n",
        "#we want agent to make small adjustments, so adj_turn isn't being adjusted\n",
        "#we don't want agent to just go straight, so less of no_turn is being added\n",
        "\n",
        "#TODO: flip images"
      ],
      "execution_count": 30,
      "outputs": [
        {
          "output_type": "stream",
          "text": [
            "done! have 0 test cases\n"
          ],
          "name": "stdout"
        }
      ]
    },
    {
      "cell_type": "code",
      "metadata": {
        "id": "2SzgDspAwdbu"
      },
      "source": [
        "#should save last 20% of training data as testing data"
      ],
      "execution_count": 25,
      "outputs": []
    },
    {
      "cell_type": "code",
      "metadata": {
        "id": "AZ2NlnuHxZxf"
      },
      "source": [
        "#set up alexnet"
      ],
      "execution_count": null,
      "outputs": []
    }
  ]
}