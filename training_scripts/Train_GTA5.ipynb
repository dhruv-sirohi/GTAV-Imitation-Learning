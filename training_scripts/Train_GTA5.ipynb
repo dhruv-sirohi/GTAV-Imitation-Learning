{
  "nbformat": 4,
  "nbformat_minor": 0,
  "metadata": {
    "colab": {
      "name": "Train_GTA5.ipynb",
      "provenance": [],
      "collapsed_sections": []
    },
    "kernelspec": {
      "name": "python3",
      "display_name": "Python 3"
    },
    "language_info": {
      "name": "python"
    },
    "accelerator": "GPU"
  },
  "cells": [
    {
      "cell_type": "markdown",
      "metadata": {
        "id": "28fr9Fy1k8yH"
      },
      "source": [
        "Note: must turn off radar in settings before recording"
      ]
    },
    {
      "cell_type": "code",
      "metadata": {
        "id": "3ofl8tG_xXM0",
        "colab": {
          "base_uri": "https://localhost:8080/"
        },
        "outputId": "968e7b9e-3f84-4524-8de5-e354a8d9231c"
      },
      "source": [
        "from google.colab import drive \n",
        "drive.mount('/content/drive')\n",
        "\n",
        "#!unzip -u \"/content/drive/My Drive/Archive.zip\" -d \"/content/drive/My Drive/\"\n",
        "\n",
        "#basically, save it to a 'colab data' folder\n",
        "#then upload each file onto colab"
      ],
      "execution_count": 2,
      "outputs": [
        {
          "output_type": "stream",
          "text": [
            "Drive already mounted at /content/drive; to attempt to forcibly remount, call drive.mount(\"/content/drive\", force_remount=True).\n"
          ],
          "name": "stdout"
        }
      ]
    },
    {
      "cell_type": "code",
      "metadata": {
        "id": "n8BmnJ5Yzjyb"
      },
      "source": [
        "import os\n",
        "os.chdir(\"/content/drive/MyDrive/GTA Driving Data\")\n",
        "#!ls"
      ],
      "execution_count": 3,
      "outputs": []
    },
    {
      "cell_type": "code",
      "metadata": {
        "id": "qNkuehuqjPe9"
      },
      "source": [
        "#imports + file upload\n",
        "%tensorflow_version 2.x\n",
        "\n",
        "import tensorflow as tf\n",
        "from tensorflow import keras\n",
        "from keras import layers\n",
        "from keras import Sequential\n",
        "from keras.layers import Dense,Activation,Dropout,Flatten,Conv2D,MaxPooling2D\n",
        "from keras.layers.normalization import BatchNormalization\n",
        "\n",
        "import time\n",
        "import random\n",
        "import numpy as np\n",
        "from tqdm import tqdm\n",
        "from PIL import Image\n",
        "\n",
        "assert len(tf.config.list_physical_devices('GPU')) > 0\n",
        "\n",
        "from google.colab import files\n",
        "from skimage.color import rgb2gray\n",
        "from collections import Counter\n",
        "from random import shuffle\n",
        "import cv2\n",
        "from IPython.display import Image, display\n",
        "import matplotlib.pyplot as plt\n",
        "\n",
        "#uploaded = files.upload()"
      ],
      "execution_count": 4,
      "outputs": []
    },
    {
      "cell_type": "code",
      "metadata": {
        "id": "5lu6X4MSkTQL"
      },
      "source": [
        "#data processing\n",
        "\n",
        "#next steps: use GAN to debias dataset (MIT 6.S191 lec 4, lab 2)\n",
        "\n",
        "def data_processing(start_val,num_files):\n",
        "  s_turn = []\n",
        "  m_turn = []\n",
        "  adj_turn = []\n",
        "  no_turn = []\n",
        "  balanced_data = []\n",
        "  starting_value = start_val\n",
        "  continue_loop = True\n",
        "  start_time = time.time()\n",
        "  while continue_loop:\n",
        "    data_file_name = '/content/drive/MyDrive/GTA Driving Data/processed-training_data-{}.npy'.format(starting_value)\n",
        "    if os.path.isfile(data_file_name) and starting_value < start_val + num_files:\n",
        "      print(starting_value)\n",
        "      starting_value += 1\n",
        "      processed_data = np.load(data_file_name,allow_pickle=True)    \n",
        "      #print(len(processed_data))\n",
        "      #h+= 1\n",
        "      #i = 0\n",
        "      for entry in processed_data:\n",
        "        #print(i)\n",
        "        #i += 1\n",
        "        #np_entry =print(entry[0])\n",
        "        y = entry[0][0:3]\n",
        "        y_ls = y[2]\n",
        "        x= entry[1]\n",
        "        #x = rgb2gray(entry[1])\n",
        "        #flipping images\n",
        "        y_flipped = [y[0],y[1],1-y_ls]\n",
        "        x_flipped = cv2.flip(x, 1)\n",
        "        #print(y_ls)\n",
        "        if (y_ls > 0.875 or y_ls < 0.125):\n",
        "          #very sharp turn, but it doesn't warrant its own array\n",
        "          s_turn.append([x,y])\n",
        "          #s_turn.append([x_flipped,y_flipped])\n",
        "        elif (y_ls > 0.8 or y_ls < 0.2):\n",
        "          #sharp turn\n",
        "          #s_turn.append([x_flipped,y_flipped])\n",
        "          s_turn.append([x,y])\n",
        "        elif (y_ls > 0.7 or y_ls < 0.3):\n",
        "          #medium turn\n",
        "          m_turn.append([x,y])\n",
        "          #m_turn.append([x_flipped,y_flipped])\n",
        "\n",
        "        elif (y_ls > 0.65 or y_ls < 0.35):\n",
        "          #light turn, doesn't warrant its own array\n",
        "          m_turn.append([x,y])\n",
        "          #m_turn.append([x_flipped,y_flipped])\n",
        "\n",
        "        elif (y_ls > 0.575 or y_ls < 0.425):\n",
        "          #adjustments\n",
        "          adj_turn.append([x,y])\n",
        "          #adj_turn.append([x_flipped,y_flipped])\n",
        "        else:\n",
        "          #no turn\n",
        "          no_turn.append([x,y])\n",
        "          #no_turn.append([x_flipped,y_flipped])\n",
        "    else:\n",
        "      if not (starting_value < start_val + num_files):\n",
        "        continue_loop = False\n",
        "      else:\n",
        "        starting_value += 1\n",
        "\n",
        "  shuffle(no_turn)\n",
        "  #without shuffling, array adjustment in next step would mean that the training set is full of mirror repeats \n",
        "  #we would prefer to have [img12_mirrored,img1] rather than [img1_mirrored, img1]\n",
        "  #shuffling allows for this\n",
        "\n",
        "  \"\"\"\n",
        "  print(len(no_turn))\n",
        "  print(len(s_turn))\n",
        "  print(len(m_turn))\n",
        "  print(len(adj_turn))\n",
        "  \"\"\"\n",
        "  \"\"\"\n",
        "  arr_lengths = [len(no_turn),len(adj_turn),len(m_turn),len(s_turn)]\n",
        "  arr_names = [\"no turn\",\"adjustment turn\",\"medium turn\", \"sharp turn\"]\n",
        "  print(\"set up bar graph for adjusted list\")\n",
        "  h+= 1\n",
        "  \"\"\"\n",
        "  balanced_data = s_turn + m_turn + adj_turn + no_turn[0:len(adj_turn)]\n",
        "\n",
        "  arr_lengths = [len(adj_turn),len(adj_turn),len(m_turn),len(s_turn)]\n",
        "  arr_names = [\"no turn (trimmed)\",\"adjustment turn\",\"medium turn\", \"sharp turn\"]\n",
        "  \n",
        "  plt.bar(arr_names,arr_lengths)\n",
        "  plt.show()\n",
        "  \n",
        "\n",
        "  no_turn = []\n",
        "  s_turn = []\n",
        "  m_turn = []\n",
        "  adj_turn = []\n",
        "  shuffle(balanced_data)\n",
        "  X = []\n",
        "  Y = []\n",
        "  for entry in balanced_data:\n",
        "    entry[0] = rgb2gray(entry[0])\n",
        "\n",
        "\n",
        "  X , Y = zip(*balanced_data)\n",
        "\n",
        "  print(\"done! have {} test cases\".format(len(balanced_data)))\n",
        "  print(\"time to run time: {}\".format(time.time()-start_time))\n",
        "  balanced_data = []\n",
        "\n",
        "  X_train_3dim = tf.convert_to_tensor(X)\n",
        "  #Y = tf.convert_to_tensor(Y)\n",
        "\n",
        "  print(X_train_3dim.shape)\n",
        "\n",
        "  new_shape = list(X_train_3dim.shape) + [1]\n",
        "\n",
        "  X_train = tf.reshape(X_train_3dim,new_shape)\n",
        "  print(X_train.shape)\n",
        "\n",
        "  Y_train_3dim = tf.convert_to_tensor(Y)\n",
        "  #Y = tf.convert_to_tensor(Y)\n",
        "\n",
        "  print(Y_train_3dim.shape)\n",
        "\n",
        "  new_shape = list(Y_train_3dim.shape) + [1]\n",
        "\n",
        "  Y_train = tf.transpose(tf.reshape(Y_train_3dim,new_shape),perm = [0,2,1])\n",
        "  print(Y_train.shape)\n",
        "\n",
        "  #we want agent to make small adjustments, so adj_turn isn't being adjusted\n",
        "  #we don't want agent to just go straight, so less of no_turn is being added\n",
        "  return X_train,Y_train"
      ],
      "execution_count": 15,
      "outputs": []
    },
    {
      "cell_type": "code",
      "metadata": {
        "id": "2SzgDspAwdbu"
      },
      "source": [
        "#saving chunk of training data as testing data\n",
        "\n",
        "#PERCENT_TEST = 20\n",
        "\n",
        "#test_index_start = int(PERCENT_TEST*len(balanced_data)/100)\n",
        "#train_data = balanced_data[:-test_index_start]\n",
        "#test_data = balanced_data[-test_index_start:]"
      ],
      "execution_count": 6,
      "outputs": []
    },
    {
      "cell_type": "code",
      "metadata": {
        "id": "YoPO2OYnqc9K",
        "colab": {
          "base_uri": "https://localhost:8080/",
          "height": 103
        },
        "outputId": "bab5a692-ff90-4dd1-f4f2-4517191b2d5f"
      },
      "source": [
        "#X_train = []\n",
        "#Y_train = []\n",
        "\n",
        "#for entry in train_data:\n",
        "  #print(entry)\n",
        "#  X_train.append(entry[0])\n",
        "#  Y_train.append(entry[1])\n",
        "\n",
        "#X_train = np.array(X_train)\n",
        "#Y_train = np.array(Y_train)\n",
        "\"\"\"\n",
        "\n",
        "X_train_3dim = tf.convert_to_tensor(X)\n",
        "#Y = tf.convert_to_tensor(Y)\n",
        "\n",
        "print(X_train_3dim.shape)\n",
        "\n",
        "new_shape = list(X_train_3dim.shape) + [1]\n",
        "\n",
        "X_train = tf.reshape(X_train_3dim,new_shape)\n",
        "print(X_train.shape)\n",
        "\n",
        "Y_train_3dim = tf.convert_to_tensor(Y)\n",
        "#Y = tf.convert_to_tensor(Y)\n",
        "\n",
        "print(Y_train_3dim.shape)\n",
        "\n",
        "new_shape = list(Y_train_3dim.shape) + [1]\n",
        "\n",
        "Y_train = tf.transpose(tf.reshape(Y_train_3dim,new_shape),perm = [0,2,1])\n",
        "print(Y_train.shape)\n",
        "\"\"\"\n"
      ],
      "execution_count": 7,
      "outputs": [
        {
          "output_type": "execute_result",
          "data": {
            "application/vnd.google.colaboratory.intrinsic+json": {
              "type": "string"
            },
            "text/plain": [
              "'\\n\\nX_train_3dim = tf.convert_to_tensor(X)\\n#Y = tf.convert_to_tensor(Y)\\n\\nprint(X_train_3dim.shape)\\n\\nnew_shape = list(X_train_3dim.shape) + [1]\\n\\nX_train = tf.reshape(X_train_3dim,new_shape)\\nprint(X_train.shape)\\n\\nY_train_3dim = tf.convert_to_tensor(Y)\\n#Y = tf.convert_to_tensor(Y)\\n\\nprint(Y_train_3dim.shape)\\n\\nnew_shape = list(Y_train_3dim.shape) + [1]\\n\\nY_train = tf.transpose(tf.reshape(Y_train_3dim,new_shape),perm = [0,2,1])\\nprint(Y_train.shape)\\n'"
            ]
          },
          "metadata": {
            "tags": []
          },
          "execution_count": 7
        }
      ]
    },
    {
      "cell_type": "code",
      "metadata": {
        "colab": {
          "base_uri": "https://localhost:8080/",
          "height": 35
        },
        "id": "G0io4xZpQk_X",
        "outputId": "63e85db9-7737-47a9-aebe-bd4863d7666b"
      },
      "source": [
        "#new_shape_0 = [1] + list(X_train[0].shape)\n",
        "#X_train_0= tf.reshape(X_train[0],new_shape_0)\n",
        "\"\"\"\n",
        "print(X_train[0:10].shape)\n",
        "\"\"\"\n"
      ],
      "execution_count": 8,
      "outputs": [
        {
          "output_type": "execute_result",
          "data": {
            "application/vnd.google.colaboratory.intrinsic+json": {
              "type": "string"
            },
            "text/plain": [
              "'\\nprint(X_train[0:10].shape)\\n'"
            ]
          },
          "metadata": {
            "tags": []
          },
          "execution_count": 8
        }
      ]
    },
    {
      "cell_type": "code",
      "metadata": {
        "colab": {
          "base_uri": "https://localhost:8080/",
          "height": 35
        },
        "id": "d-ou3jsRRkRo",
        "outputId": "e3eaf8a2-3fe2-470d-b09a-005dd3dda853"
      },
      "source": [
        "\"\"\"\n",
        "print(Y_train.shape)\n",
        "print(tf.transpose(Y_train,perm = [0,2,1]).shape)\n",
        "\"\"\"\n",
        "#new_shape_0 = [1] + list(X_train[0].shape)\n",
        "#X_train_0 = tf.reshape(X_train[0],new_shape_0)\n",
        "#print(X_train_0.shape)"
      ],
      "execution_count": 9,
      "outputs": [
        {
          "output_type": "execute_result",
          "data": {
            "application/vnd.google.colaboratory.intrinsic+json": {
              "type": "string"
            },
            "text/plain": [
              "'\\nprint(Y_train.shape)\\nprint(tf.transpose(Y_train,perm = [0,2,1]).shape)\\n'"
            ]
          },
          "metadata": {
            "tags": []
          },
          "execution_count": 9
        }
      ]
    },
    {
      "cell_type": "code",
      "metadata": {
        "id": "OwYKIJtKtsPl",
        "colab": {
          "base_uri": "https://localhost:8080/",
          "height": 1000
        },
        "outputId": "16f234fb-337d-40a2-eebf-dc341eb135d7"
      },
      "source": [
        "\n",
        "\"\"\"\n",
        "import mxnet as mx\n",
        "from mxnet import np, npx\n",
        "from mxnet.gluon import nn\n",
        "from d2l import mxnet as d2l\n",
        "\"\"\"\n",
        "\n",
        "#set up alexnet\n",
        "\n",
        "\n",
        "def build_alexnet_model():\n",
        "  #image_shape = (80,60,1)\n",
        "  np.random.seed(1000)\n",
        "  #https://www.tensorflow.org/api_docs/python/tf/keras/layers/InputLayer\n",
        "  model = tf.keras.Sequential([\n",
        "    #tf.keras.layers.InputLayer(input_shape=image_shape),\n",
        "    tf.keras.layers.Conv2D(filters=96, kernel_size=(5,5),strides=(2,2),activation=tf.nn.relu), \n",
        "    tf.keras.layers.MaxPooling2D(pool_size=(3,3),strides=(2,2)),\n",
        "    tf.keras.layers.Conv2D(filters=256,kernel_size=(5,5),strides=(1,1),activation=tf.nn.relu), \n",
        "    #tf.keras.layers.MaxPooling2D(pool_size=(3,3),strides=(2,2)),\n",
        "    #tf.keras.layers.Conv2D(filters=384,kernel_size=(3,3),strides=(1,1),activation=tf.nn.relu), \n",
        "    tf.keras.layers.Conv2D(filters=384,kernel_size=(3,3),strides=(1,1),activation=tf.nn.relu), \n",
        "    tf.keras.layers.Conv2D(filters=256,kernel_size=(3,3),strides=(1,1),activation=tf.nn.relu), \n",
        "    tf.keras.layers.MaxPooling2D(pool_size=(3,3),strides=(2,2)),\n",
        "    tf.keras.layers.Flatten(),\n",
        "    tf.keras.layers.Dense(4096, activation=tf.nn.relu),\n",
        "    tf.keras.layers.Dropout(0.4),\n",
        "    tf.keras.layers.Dense(4096, activation=tf.nn.relu),\n",
        "    tf.keras.layers.Dropout(0.4),\n",
        "    tf.keras.layers.Dense(3, activation=tf.keras.activations.linear)])\n",
        "  \n",
        "  return model\n",
        "\n",
        "def build_cnn_model():\n",
        "      cnn_model = tf.keras.Sequential([\n",
        "        # Here, we use a larger 11 x 11 window to capture objects. At the same\n",
        "        # time, we use a stride of 2 to reduce the height and width of\n",
        "        # the output. Here, the number of output channels is much larger than\n",
        "        # that in LeNet\n",
        "        tf.keras.layers.Conv2D(filters=96, kernel_size=11, strides=2,\n",
        "                               activation='relu'),\n",
        "        tf.keras.layers.MaxPool2D(pool_size=3, strides=2),\n",
        "        # Make the convolution window smaller, set padding to 2 for consistent\n",
        "        # height and width across the input and output, and increase the\n",
        "        # number of output channels\n",
        "        tf.keras.layers.Conv2D(filters=256, kernel_size=5, padding='same',\n",
        "                               activation='relu'),\n",
        "        tf.keras.layers.MaxPool2D(pool_size=3, strides=2),\n",
        "        # Use three successive convolutional layers and a smaller convolution\n",
        "        # window. Except for the final convolutional layer, the number of\n",
        "        # output channels is further increased. Pooling layers are not used to\n",
        "        # reduce the height and width of input after the first two\n",
        "        # convolutional layers\n",
        "        tf.keras.layers.Conv2D(filters=384, kernel_size=3, padding='same',\n",
        "                               activation='relu'),\n",
        "        tf.keras.layers.Conv2D(filters=384, kernel_size=3, padding='same',\n",
        "                               activation='relu'),\n",
        "        tf.keras.layers.Conv2D(filters=256, kernel_size=3, padding='same',\n",
        "                               activation='relu'),\n",
        "        tf.keras.layers.MaxPool2D(pool_size=3, strides=2),\n",
        "        tf.keras.layers.Flatten(),\n",
        "        # Here, the number of outputs of the fully-connected layer is several\n",
        "        # times larger than that in LeNet. Use the dropout layer to mitigate\n",
        "        # overfitting\n",
        "        tf.keras.layers.Dense(4096, activation='relu'),\n",
        "        tf.keras.layers.Dropout(0.5),\n",
        "        tf.keras.layers.Dense(4096, activation='relu'),\n",
        "        tf.keras.layers.Dropout(0.5),\n",
        "        # Output layer. Since we are using Fashion-MNIST, the number of\n",
        "        # classes is 10, instead of 1000 as in the paper\n",
        "        tf.keras.layers.Dense(3)])\n",
        "      \n",
        "      return cnn_model\n",
        "\n",
        "cnn_model = build_cnn_model()\n",
        "cnn_model.compile(optimizer=tf.keras.optimizers.SGD(learning_rate=1e-1), \n",
        "              loss=tf.keras.losses.MeanSquaredError(),\n",
        "              metrics=['accuracy'])\n",
        "\n",
        "#x = np.random.rand(2,160,120,1)\n",
        "#X = tf.convert_to_tensor(x)\n",
        "\n",
        "# Initialize the model by passing some data through\n",
        "#predictions = cnn_model.predict(X_train_0)\n",
        "#print(predictions)\n",
        "#print(predictions.shape)\n",
        "# Print the summary of the layers in the model.\n",
        "#print(cnn_model.summary())\n",
        "\n",
        "BATCH_SIZE = 32\n",
        "EPOCHS = 20\n",
        "start_val = 0\n",
        "num_files_to_retrieve = 10\n",
        "num_files_to_test = 215\n",
        "for epoch in range(0,EPOCHS):\n",
        "  print('-------------STARTING EPOCH {}-------------'.format(epoch))\n",
        "  start_val = 0\n",
        "  while start_val < num_files_to_test-num_files_to_retrieve*3:\n",
        "    if(start_val < 83):\n",
        "      X_train, Y_train = data_processing(start_val,num_files_to_retrieve)\n",
        "      start_val += num_files_to_retrieve\n",
        "    else:\n",
        "      X_train, Y_train = data_processing(start_val,num_files_to_retrieve*3)\n",
        "      start_val += num_files_to_retrieve*3\n",
        "    cnn_model.fit(X_train, Y_train, batch_size=BATCH_SIZE, epochs=1)\n",
        "  X_train, Y_train = data_processing(start_val,num_files_to_test-start_val+1)\n",
        "  cnn_model.fit(X_train, Y_train, batch_size=BATCH_SIZE, epochs=1)\n",
        "\n",
        "\n",
        "\n",
        "X_test, Y_test = data_processing(216,18)\n",
        "test_loss, test_acc = cnn_model.evaluate(X_test,Y_test)\n",
        "\n",
        "#test_loss, test_acc = cnn_model.evaluate(X_train[-1000:], Y_train[-1000:])\n",
        "\n",
        "print('Test accuracy:', test_acc)\n",
        "\n",
        "#TODO: record, setup training loop, test it out\n",
        "#record just 5 mins to test out data processing at alexnet dims"
      ],
      "execution_count": null,
      "outputs": [
        {
          "output_type": "stream",
          "text": [
            "-------------STARTING EPOCH 0-------------\n",
            "0\n",
            "1\n",
            "2\n",
            "3\n",
            "4\n",
            "5\n",
            "6\n",
            "7\n",
            "8\n",
            "9\n"
          ],
          "name": "stdout"
        },
        {
          "output_type": "display_data",
          "data": {
            "image/png": "[encoded data removed]",
            "text/plain": [
              "<Figure size 432x288 with 1 Axes>"
            ]
          },
          "metadata": {
            "tags": [],
            "needs_background": "light"
          }
        },
        {
          "output_type": "stream",
          "text": [
            "done! have 10282 test cases\n",
            "time to run time: 34.847986936569214\n",
            "(10282, 120, 160)\n",
            "(10282, 120, 160, 1)\n",
            "(10282, 3)\n",
            "(10282, 1, 3)\n",
            "322/322 [==============================] - 34s 102ms/step - loss: 0.0366 - accuracy: 0.7171\n",
            "10\n",
            "11\n",
            "12\n",
            "13\n",
            "14\n",
            "15\n",
            "16\n",
            "17\n",
            "18\n",
            "19\n"
          ],
          "name": "stdout"
        },
        {
          "output_type": "display_data",
          "data": {
            "image/png": "[encoded data removed]",
            "text/plain": [
              "<Figure size 432x288 with 1 Axes>"
            ]
          },
          "metadata": {
            "tags": [],
            "needs_background": "light"
          }
        },
        {
          "output_type": "stream",
          "text": [
            "done! have 10096 test cases\n",
            "time to run time: 36.12618446350098\n",
            "(10096, 120, 160)\n",
            "(10096, 120, 160, 1)\n",
            "(10096, 3)\n",
            "(10096, 1, 3)\n",
            "316/316 [==============================] - 32s 103ms/step - loss: 0.0460 - accuracy: 0.7157\n",
            "20\n",
            "21\n",
            "22\n",
            "23\n",
            "24\n",
            "25\n",
            "26\n",
            "27\n",
            "28\n",
            "29\n"
          ],
          "name": "stdout"
        },
        {
          "output_type": "display_data",
          "data": {
            "image/png": "[encoded data removed]",
            "text/plain": [
              "<Figure size 432x288 with 1 Axes>"
            ]
          },
          "metadata": {
            "tags": [],
            "needs_background": "light"
          }
        },
        {
          "output_type": "stream",
          "text": [
            "done! have 10874 test cases\n",
            "time to run time: 36.229729890823364\n",
            "(10874, 120, 160)\n",
            "(10874, 120, 160, 1)\n",
            "(10874, 3)\n",
            "(10874, 1, 3)\n",
            "340/340 [==============================] - 35s 103ms/step - loss: 0.0405 - accuracy: 0.7888\n",
            "30\n",
            "31\n",
            "32\n",
            "33\n",
            "34\n",
            "35\n",
            "36\n",
            "37\n",
            "38\n",
            "39\n"
          ],
          "name": "stdout"
        },
        {
          "output_type": "display_data",
          "data": {
            "image/png": "[encoded data removed]",
            "text/plain": [
              "<Figure size 432x288 with 1 Axes>"
            ]
          },
          "metadata": {
            "tags": [],
            "needs_background": "light"
          }
        },
        {
          "output_type": "stream",
          "text": [
            "done! have 10861 test cases\n",
            "time to run time: 35.26019239425659\n",
            "(10861, 120, 160)\n",
            "(10861, 120, 160, 1)\n",
            "(10861, 3)\n",
            "(10861, 1, 3)\n",
            "340/340 [==============================] - 35s 103ms/step - loss: 0.0559 - accuracy: 0.5782\n",
            "40\n",
            "42\n",
            "43\n",
            "44\n",
            "45\n",
            "46\n",
            "47\n",
            "48\n",
            "49\n"
          ],
          "name": "stdout"
        },
        {
          "output_type": "display_data",
          "data": {
            "image/png": "[encoded data removed]",
            "text/plain": [
              "<Figure size 432x288 with 1 Axes>"
            ]
          },
          "metadata": {
            "tags": [],
            "needs_background": "light"
          }
        },
        {
          "output_type": "stream",
          "text": [
            "done! have 10164 test cases\n",
            "time to run time: 32.58832406997681\n",
            "(10164, 120, 160)\n",
            "(10164, 120, 160, 1)\n",
            "(10164, 3)\n",
            "(10164, 1, 3)\n",
            "318/318 [==============================] - 33s 103ms/step - loss: 0.0468 - accuracy: 0.7640\n",
            "50\n",
            "51\n",
            "52\n",
            "53\n",
            "56\n",
            "57\n",
            "58\n",
            "59\n"
          ],
          "name": "stdout"
        },
        {
          "output_type": "display_data",
          "data": {
            "image/png": "[encoded data removed]",
            "text/plain": [
              "<Figure size 432x288 with 1 Axes>"
            ]
          },
          "metadata": {
            "tags": [],
            "needs_background": "light"
          }
        },
        {
          "output_type": "stream",
          "text": [
            "done! have 8788 test cases\n",
            "time to run time: 27.977042198181152\n",
            "(8788, 120, 160)\n",
            "(8788, 120, 160, 1)\n",
            "(8788, 3)\n",
            "(8788, 1, 3)\n",
            "275/275 [==============================] - 28s 103ms/step - loss: 0.0421 - accuracy: 0.8180\n",
            "60\n",
            "61\n",
            "62\n",
            "63\n",
            "64\n",
            "65\n",
            "66\n",
            "67\n",
            "68\n",
            "69\n"
          ],
          "name": "stdout"
        },
        {
          "output_type": "display_data",
          "data": {
            "image/png": "[encoded data removed]",
            "text/plain": [
              "<Figure size 432x288 with 1 Axes>"
            ]
          },
          "metadata": {
            "tags": [],
            "needs_background": "light"
          }
        },
        {
          "output_type": "stream",
          "text": [
            "done! have 10929 test cases\n",
            "time to run time: 34.23206186294556\n",
            "(10929, 120, 160)\n",
            "(10929, 120, 160, 1)\n",
            "(10929, 3)\n",
            "(10929, 1, 3)\n",
            "342/342 [==============================] - 35s 102ms/step - loss: 0.0420 - accuracy: 0.7279\n",
            "70\n",
            "71\n",
            "72\n",
            "73\n",
            "74\n",
            "75\n",
            "76\n",
            "77\n",
            "78\n",
            "79\n"
          ],
          "name": "stdout"
        },
        {
          "output_type": "display_data",
          "data": {
            "image/png": "[encoded data removed]",
            "text/plain": [
              "<Figure size 432x288 with 1 Axes>"
            ]
          },
          "metadata": {
            "tags": [],
            "needs_background": "light"
          }
        },
        {
          "output_type": "stream",
          "text": [
            "done! have 9229 test cases\n",
            "time to run time: 35.496222734451294\n",
            "(9229, 120, 160)\n",
            "(9229, 120, 160, 1)\n",
            "(9229, 3)\n",
            "(9229, 1, 3)\n",
            "289/289 [==============================] - 30s 103ms/step - loss: 0.0460 - accuracy: 0.6770\n",
            "80\n",
            "81\n",
            "82\n",
            "83\n",
            "84\n",
            "85\n",
            "86\n",
            "87\n",
            "88\n",
            "89\n"
          ],
          "name": "stdout"
        },
        {
          "output_type": "display_data",
          "data": {
            "image/png": "[encoded data removed]",
            "text/plain": [
              "<Figure size 432x288 with 1 Axes>"
            ]
          },
          "metadata": {
            "tags": [],
            "needs_background": "light"
          }
        },
        {
          "output_type": "stream",
          "text": [
            "done! have 6183 test cases\n",
            "time to run time: 28.28940486907959\n",
            "(6183, 120, 160)\n",
            "(6183, 120, 160, 1)\n",
            "(6183, 3)\n",
            "(6183, 1, 3)\n",
            "194/194 [==============================] - 20s 103ms/step - loss: 0.0519 - accuracy: 0.6791\n",
            "90\n",
            "91\n",
            "92\n",
            "93\n",
            "94\n",
            "95\n",
            "96\n",
            "97\n",
            "98\n",
            "99\n",
            "100\n",
            "101\n",
            "102\n",
            "103\n",
            "104\n",
            "105\n",
            "106\n",
            "107\n",
            "108\n",
            "109\n",
            "110\n",
            "111\n",
            "112\n",
            "113\n",
            "114\n",
            "115\n",
            "116\n",
            "117\n",
            "118\n",
            "119\n"
          ],
          "name": "stdout"
        },
        {
          "output_type": "display_data",
          "data": {
            "image/png": "[encoded data removed]",
            "text/plain": [
              "<Figure size 432x288 with 1 Axes>"
            ]
          },
          "metadata": {
            "tags": [],
            "needs_background": "light"
          }
        },
        {
          "output_type": "stream",
          "text": [
            "done! have 10322 test cases\n",
            "time to run time: 67.45599293708801\n",
            "(10322, 120, 160)\n",
            "(10322, 120, 160, 1)\n",
            "(10322, 3)\n",
            "(10322, 1, 3)\n",
            "323/323 [==============================] - 33s 103ms/step - loss: 0.0448 - accuracy: 0.7124\n",
            "120\n",
            "121\n",
            "122\n",
            "123\n",
            "124\n",
            "125\n",
            "126\n",
            "127\n",
            "128\n",
            "129\n",
            "130\n",
            "131\n",
            "132\n",
            "133\n",
            "134\n",
            "135\n",
            "136\n",
            "137\n",
            "138\n",
            "139\n",
            "140\n",
            "141\n",
            "142\n",
            "143\n",
            "144\n",
            "145\n",
            "146\n",
            "147\n",
            "148\n",
            "149\n"
          ],
          "name": "stdout"
        },
        {
          "output_type": "display_data",
          "data": {
            "image/png": "[encoded data removed]",
            "text/plain": [
              "<Figure size 432x288 with 1 Axes>"
            ]
          },
          "metadata": {
            "tags": [],
            "needs_background": "light"
          }
        },
        {
          "output_type": "stream",
          "text": [
            "done! have 10819 test cases\n",
            "time to run time: 64.17979264259338\n",
            "(10819, 120, 160)\n",
            "(10819, 120, 160, 1)\n",
            "(10819, 3)\n",
            "(10819, 1, 3)\n",
            "339/339 [==============================] - 35s 102ms/step - loss: 0.0610 - accuracy: 0.6548\n",
            "150\n",
            "151\n",
            "152\n",
            "153\n",
            "154\n",
            "155\n",
            "156\n",
            "157\n",
            "158\n",
            "159\n",
            "160\n",
            "161\n",
            "162\n",
            "163\n",
            "164\n",
            "165\n",
            "166\n",
            "167\n",
            "168\n",
            "169\n",
            "170\n"
          ],
          "name": "stdout"
        }
      ]
    },
    {
      "cell_type": "code",
      "metadata": {
        "id": "AOoguOvCdOGQ"
      },
      "source": [
        "\"\"\"\n",
        "#defining lstm model\n",
        "#rnn is later\n",
        "def build_LSTM_model():#vocab_size, embedding_dim, rnn_units, batch_size):\n",
        "  model = keras.Sequential(\n",
        "      [\n",
        "       layers.ConvLSTM2D(\n",
        "           filters=40,kernel_size=(3,3),padding='same',return_sequences=True\n",
        "       ),\n",
        "       layers.BatchNormalization(),\n",
        "       layers.ConvLSTM2D(\n",
        "           filters=40,kernel_size=(3,3),padding='same',return_sequences=True\n",
        "       ),\n",
        "       layers.BatchNormalization()\n",
        "       ])\n",
        "  model.compile(loss=keras.losses.MeanSquaredError(),optimizer='adam',metrics=[\"accuracy\"])\n",
        "  return model\n",
        "\n",
        "x = np.random.rand(2,120,160,1)\n",
        "X = tf.convert_to_tensor(x)\n",
        "print(X.shape)\n",
        "rnn_model = build_LSTM_model()\n",
        "# Initialize the model by passing some data through\n",
        "predictions = rnn_model.predict(X)\n",
        "\n",
        "#print(predictions)\n",
        "# Print the summary of the layers in the model.\n",
        "print(rnn_model.summary())\n",
        "\n",
        "\n",
        "\n",
        "    # Layer 1: Embedding layer to transform indices into dense vectors \n",
        "    #   of a fixed embedding size\n",
        "    tf.keras.layers.Embedding(vocab_size, embedding_dim, batch_input_shape=[batch_size, None]),\n",
        "\n",
        "    # Layer 2: LSTM with `rnn_units` number of units. \n",
        "    # TODO: Call the LSTM function defined above to add this layer.\n",
        "    LSTM(rnn_units),\n",
        "\n",
        "    # Layer 3: Dense (fully-connected) layer that transforms the LSTM output\n",
        "    #   into the vocabulary size. \n",
        "    # TODO: Add the Dense layer.\n",
        "    tf.keras.layers.Dense(vocab_size)\n",
        "  ])\n",
        "\"\"\"\n",
        "\n",
        "  #return model\n",
        "\n",
        "# Build a simple model with default hyperparameters. You will get the \n",
        "#   chance to change these later.\n",
        "#model = build_model(len(vocab), embedding_dim=256, rnn_units=1024, batch_size=32)"
      ],
      "execution_count": null,
      "outputs": []
    },
    {
      "cell_type": "code",
      "metadata": {
        "id": "-cINM9ewdY2V"
      },
      "source": [
        "#figure out batches w/ input data, set that up, break them down into 100 frames"
      ],
      "execution_count": null,
      "outputs": []
    },
    {
      "cell_type": "code",
      "metadata": {
        "id": "FPq2o3i0u3LT"
      },
      "source": [
        "#train + save weights ever once in a while"
      ],
      "execution_count": null,
      "outputs": []
    },
    {
      "cell_type": "markdown",
      "metadata": {
        "id": "HkQnuYsPgrlO"
      },
      "source": [
        ""
      ]
    }
  ]
}