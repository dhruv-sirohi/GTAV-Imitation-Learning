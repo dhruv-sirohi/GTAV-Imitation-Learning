{
  "nbformat": 4,
  "nbformat_minor": 0,
  "metadata": {
    "colab": {
      "name": "Sentdex_GTA_V.ipynb",
      "provenance": [],
      "collapsed_sections": []
    },
    "kernelspec": {
      "name": "python3",
      "display_name": "Python 3"
    },
    "language_info": {
      "name": "python"
    },
    "accelerator": "GPU"
  },
  "cells": [
    {
      "cell_type": "code",
      "metadata": {
        "colab": {
          "base_uri": "https://localhost:8080/"
        },
        "id": "SWWX0_tzaSkC",
        "outputId": "78ad481f-a7d8-442c-cd63-001dbca0a08d"
      },
      "source": [
        "from google.colab import drive \n",
        "drive.mount('/content/drive')"
      ],
      "execution_count": null,
      "outputs": [
        {
          "output_type": "stream",
          "text": [
            "Mounted at /content/drive\n"
          ],
          "name": "stdout"
        }
      ]
    },
    {
      "cell_type": "code",
      "metadata": {
        "colab": {
          "base_uri": "https://localhost:8080/"
        },
        "id": "2-fnFMZGuF63",
        "outputId": "3e8a2b08-2984-4e0a-82f3-f0e7d198d3f5"
      },
      "source": [
        "import tensorflow as tf\n",
        "import numpy as np\n",
        "import matplotlib.pyplot as plt \n",
        "import statistics\n",
        "\n",
        "#_remove_summaries() \n",
        "WIDTH = 160\n",
        "HEIGHT = 120\n",
        "LR = 1e-3\n",
        "EPOCHS = 600\n",
        "MODEL_NAME = 'pygta5-car-fast-{}-{}-{}-epochs-300K-data.model'.format(LR, 'alexnetv2',EPOCHS)\n",
        "\n",
        "model = build_alexnet_batchnorm_model()\n",
        "\n",
        "model.compile(optimizer=tf.keras.optimizers.SGD(\n",
        "    learning_rate=LR, momentum=0.9), loss='categorical_crossentropy', metrics=['accuracy'])\n",
        "\n",
        "test_acc   = []\n",
        "test_loss  = []\n",
        "train_acc  = []\n",
        "train_loss = []\n",
        "\n",
        "hm_data = 22\n",
        "for epoch in range(1,EPOCHS+1):\n",
        "    print('----- --------STARTING EPOCH {}-------------'.format(epoch))\n",
        "\n",
        "    epoch_test_acc   = []\n",
        "    epoch_test_loss  = []\n",
        "    epoch_train_acc  = []\n",
        "    epoch_train_loss = []\n",
        "\n",
        "    for i in range(1,hm_data+1):\n",
        "        train_data = np.load('/content/drive/MyDrive/GTA Driving Data/training_data-{}-balanced.npy'.format(i),allow_pickle=True)\n",
        "\n",
        "        train = train_data  #[:-100]\n",
        "        #test = train_data  #[-100:]\n",
        "\n",
        "        X = np.array([i[0] for i in train],dtype=np.float32).reshape(-1,WIDTH,HEIGHT,1)\n",
        "        Y = np.array([i[1] for i in train]).reshape(-1,3)\n",
        "        #print(Y.shape)\n",
        "\n",
        "        #test_x = np.array([i[0] for i in test]).reshape(-1,WIDTH,HEIGHT,1)\n",
        "        #test_y = [i[1] for i in test]\n",
        "        \n",
        "        history = model.fit(X,Y,validation_split=0.1,verbose=0)\n",
        "\n",
        "        epoch_train_acc.append(history.history['acc'][0])\n",
        "        epoch_train_loss.append(history.history['loss'][0])\n",
        "        epoch_test_loss.append(history.history['val_loss'][0])\n",
        "        epoch_test_acc.append(history.history['val_acc'][0])\n",
        "    \n",
        "    train_acc.append(statistics.mean(epoch_train_acc))\n",
        "    test_acc.append(statistics.mean(epoch_test_acc))\n",
        "    train_loss.append(statistics.mean(epoch_train_loss))\n",
        "    test_loss.append(statistics.mean(epoch_test_loss))\n",
        "    print(\"avg train accuracy: {}\".format(statistics.mean(epoch_train_acc)))\n",
        "    print(\"avg test accuracy: {}\".format(statistics.mean(epoch_test_acc)))\n",
        "    if epoch % 100 == 0:\n",
        "          print(\"SAVED\")\n",
        "          file_name = \"/content/drive/MyDrive/GTA Driving Data/training weights/gta_sentdex_model_epoch_{}.h5\".format(epoch)\n",
        "          model.save(file_name)\n",
        "          graph_data = [train_acc,test_acc,train_loss,test_loss]\n",
        "          np.save('/content/drive/MyDrive/GTA Driving Data/progress data/accuracy_graph_data.npy',graph_data)\n",
        "f1 = plt.figure()\n",
        "f2 = plt.figure()\n",
        "ax1 = f1.add_subplot(111)\n",
        "\"\"\"\n",
        "print(train_acc)\n",
        "print(test_acc)\n",
        "print(train_loss)\n",
        "print(test_loss)\n",
        "\"\"\"\n",
        "ax1.plot(train_acc, \"-b\",label = \"train accuracy\")\n",
        "ax1.plot(test_acc, \"-r\",label = \"test accuracy\")\n",
        "ax2 = f2.add_subplot(111)\n",
        "ax2.plot(train_loss, \"-b\",label = \"train loss\")\n",
        "ax2.plot(test_loss, \"-r\",label = \"test loss\")\n",
        "plt.show()"
      ],
      "execution_count": null,
      "outputs": [
        {
          "output_type": "stream",
          "text": [
            "----- --------STARTING EPOCH 1-------------\n"
          ],
          "name": "stdout"
        },
        {
          "output_type": "stream",
          "text": [
            "/usr/local/lib/python3.7/dist-packages/tensorflow/python/keras/engine/training.py:2426: UserWarning: `Model.state_updates` will be removed in a future version. This property should not be used in TensorFlow 2.0, as `updates` are applied automatically.\n",
            "  warnings.warn('`Model.state_updates` will be removed in a future version. '\n"
          ],
          "name": "stderr"
        }
      ]
    },
    {
      "cell_type": "code",
      "metadata": {
        "id": "OmvB6NBAqS8t",
        "colab": {
          "base_uri": "https://localhost:8080/",
          "height": 513
        },
        "outputId": "7a38c20b-0daa-41cc-a8d0-3f2a9d71e4f9"
      },
      "source": [
        "\n",
        "f1 = plt.figure()\n",
        "f2 = plt.figure()\n",
        "ax1 = f1.add_subplot(111)\n",
        "ax1.plot(range(0,10))\n",
        "ax2 = f2.add_subplot(111)\n",
        "ax2.plot(range(10,20))\n",
        "plt.show()"
      ],
      "execution_count": 29,
      "outputs": [
        {
          "output_type": "display_data",
          "data": {
            "image/png": "[encoded data removed]",
            "text/plain": [
              "<Figure size 432x288 with 1 Axes>"
            ]
          },
          "metadata": {
            "tags": [],
            "needs_background": "light"
          }
        },
        {
          "output_type": "display_data",
          "data": {
            "image/png": "[encoded data removed]",
            "text/plain": [
              "<Figure size 432x288 with 1 Axes>"
            ]
          },
          "metadata": {
            "tags": [],
            "needs_background": "light"
          }
        }
      ]
    },
    {
      "cell_type": "code",
      "metadata": {
        "id": "QiGXcttUY_fg"
      },
      "source": [
        "!pip install tflearn\n",
        "\"\"\" AlexNet.\n",
        "Applying 'Alexnet' to Oxford's 17 Category Flower Dataset classification task.\n",
        "References:\n",
        "    - Alex Krizhevsky, Ilya Sutskever and Geoffrey E. Hinton. ImageNet\n",
        "    Classification with Deep Convolutional Neural Networks. NIPS, 2012.\n",
        "\n",
        "Links:\n",
        "    - [AlexNet Paper](http://papers.nips.cc/paper/4824-imagenet-classification-with-deep-convolutional-neural-networks.pdf)\n",
        "\"\"\"\n",
        "\n",
        "import tflearn\n",
        "from tflearn.layers.conv import conv_2d, max_pool_2d\n",
        "from tflearn.layers.core import input_data, dropout, fully_connected\n",
        "from tflearn.layers.estimator import regression\n",
        "from tflearn.layers.normalization import local_response_normalization\n",
        "\n",
        "def alexnet(width, height, lr):\n",
        "    network = input_data(shape=[None, width, height, 1], name='input')\n",
        "    network = conv_2d(network, 96, 11, strides=4, activation='relu')\n",
        "    network = max_pool_2d(network, 3, strides=2)\n",
        "    network = local_response_normalization(network)\n",
        "    network = conv_2d(network, 256, 5, activation='relu')\n",
        "    network = max_pool_2d(network, 3, strides=2)\n",
        "    network = local_response_normalization(network)\n",
        "    network = conv_2d(network, 384, 3, activation='relu')\n",
        "    network = conv_2d(network, 384, 3, activation='relu')\n",
        "    network = conv_2d(network, 256, 3, activation='relu')\n",
        "    network = max_pool_2d(network, 3, strides=2)\n",
        "    network = local_response_normalization(network)\n",
        "    network = fully_connected(network, 4096, activation='tanh')\n",
        "    network = dropout(network, 0.5)\n",
        "    network = fully_connected(network, 4096, activation='tanh')\n",
        "    network = dropout(network, 0.5)\n",
        "    network = fully_connected(network, 3, activation='softmax')\n",
        "    network = regression(network, optimizer='momentum',\n",
        "                         loss='categorical_crossentropy',\n",
        "                         learning_rate=lr, name='targets')\n",
        "\n",
        "    model = tflearn.DNN(network, checkpoint_path='model_alexnet',\n",
        "                        max_checkpoints=1, tensorboard_verbose=2, tensorboard_dir='log')\n",
        "\n",
        "    return model"
      ],
      "execution_count": null,
      "outputs": []
    },
    {
      "cell_type": "code",
      "metadata": {
        "id": "pjvyFV-Dh-Ct"
      },
      "source": [
        "import tensorflow as tf\n",
        "from tensorflow import keras\n",
        "from tensorflow.keras.applications.inception_v3 import InceptionV3\n",
        "from tensorflow.keras.preprocessing import image\n",
        "from tensorflow.keras.models import Model\n",
        "from tensorflow.keras.layers import Dense, GlobalAveragePooling2D\n",
        "from tensorflow.keras import Input\n",
        "\n",
        "def build_alexnet_batchnorm_model():\n",
        "  model = keras.models.Sequential([\n",
        "    keras.layers.Conv2D(filters=96, kernel_size=(11,11), strides=(4,4), activation='relu'),#, input_shape=(120, 160, 1)),\n",
        "    #keras.layers.BatchNormalization(),\n",
        "    keras.layers.MaxPool2D(pool_size=(3,3), strides=(2,2)),\n",
        "    keras.layers.Conv2D(filters=256, kernel_size=(5,5), strides=(1,1), activation='relu', padding=\"same\"),\n",
        "    #keras.layers.BatchNormalization(),\n",
        "    keras.layers.MaxPool2D(pool_size=(3,3), strides=(2,2)),\n",
        "    keras.layers.Conv2D(filters=384, kernel_size=(3,3), strides=(1,1), activation='relu', padding=\"same\"),\n",
        "    #keras.layers.BatchNormalization(),\n",
        "    keras.layers.Conv2D(filters=384, kernel_size=(3,3), strides=(1,1), activation='relu', padding=\"same\"),\n",
        "    #keras.layers.BatchNormalization(),\n",
        "    keras.layers.Conv2D(filters=256, kernel_size=(3,3), strides=(1,1), activation='relu', padding=\"same\"),\n",
        "    #keras.layers.BatchNormalization(),\n",
        "    keras.layers.MaxPool2D(pool_size=(3,3), strides=(2,2)),\n",
        "    keras.layers.Flatten(),\n",
        "    keras.layers.Dense(4096, activation='relu'),\n",
        "    keras.layers.Dropout(0.5),\n",
        "    keras.layers.Dense(4096, activation='relu'),\n",
        "    keras.layers.Dropout(0.5),\n",
        "    keras.layers.Dense(3,activation='softmax')\n",
        "  ])\n",
        "  return model\n"
      ],
      "execution_count": null,
      "outputs": []
    }
  ]
}